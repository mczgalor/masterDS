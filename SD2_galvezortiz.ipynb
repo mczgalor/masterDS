{
 "cells": [
  {
   "cell_type": "markdown",
   "metadata": {},
   "source": [
    "# Practica Sistemas distribuidos: MotoGP Qatar 2014"
   ]
  },
  {
   "cell_type": "markdown",
   "metadata": {},
   "source": [
    "## Enunciados de la sede de Argüelles"
   ]
  },
  {
   "cell_type": "markdown",
   "metadata": {},
   "source": [
    "Los ejercicios se han resuelto usando DataFrames pero algunos también usando spark.sql, para hacer la comparación y aprender."
   ]
  },
  {
   "cell_type": "code",
   "execution_count": 1,
   "metadata": {},
   "outputs": [
    {
     "name": "stdout",
     "output_type": "stream",
     "text": [
      "<pyspark.sql.session.SparkSession object at 0x107ce4c18>\n",
      "<SparkContext master=local[*] appName=understanding_sparksession>\n"
     ]
    }
   ],
   "source": [
    "#conexion a spark\n",
    "import pyspark   \n",
    "from pyspark.sql import SparkSession\n",
    "spark = (SparkSession.builder\n",
    "    .master(\"local[*]\")\n",
    "    .config(\"spark.driver.cores\", 1)\n",
    "    .appName(\"understanding_sparksession\")\n",
    "    .getOrCreate() )\n",
    "sc = spark.sparkContext\n",
    "print(spark)\n",
    "print(sc)"
   ]
  },
  {
   "cell_type": "code",
   "execution_count": 2,
   "metadata": {
    "collapsed": true
   },
   "outputs": [],
   "source": [
    "#Definición del esquema del fichero:\n",
    "from pyspark.sql.types import *\n",
    "from pyspark.sql.functions import *\n",
    "customSchema = StructType([StructField(\"Id\", LongType(), True),\n",
    "                           StructField(\"Parent_sys_id\", StringType(), True),\n",
    "                           StructField(\"Source\", StringType(), True),\n",
    "                           StructField(\"Mentions\", StringType(), True),\n",
    "                           StructField(\"Target\", StringType(), True),\n",
    "                           StructField(\"Name_source\", StringType(), True),\n",
    "                           StructField(\"Body\", StringType(), True),\n",
    "                           StructField(\"Pub_date\", TimestampType(), True),\n",
    "                           StructField(\"URLs\", StringType(), True),\n",
    "                           StructField(\"Tipe_action\", StringType(), True),\n",
    "                           StructField(\"Link\", StringType(), True),\n",
    "                           StructField(\"Has_link\", ByteType(), True),\n",
    "                           StructField(\"Has_picture\", ByteType(), True),\n",
    "                           StructField(\"Website\", StringType(), True),\n",
    "                           StructField(\"Country\", StringType(), True),\n",
    "                           StructField(\"Activity\", LongType(), True),\n",
    "                           StructField(\"Followers\", LongType(), True),\n",
    "                           StructField(\"Following\", LongType(), True),\n",
    "                           StructField(\"Location\", StringType(), True)\n",
    "                          ])"
   ]
  },
  {
   "cell_type": "code",
   "execution_count": 3,
   "metadata": {},
   "outputs": [
    {
     "data": {
      "text/plain": [
       "257680"
      ]
     },
     "execution_count": 3,
     "metadata": {},
     "output_type": "execute_result"
    }
   ],
   "source": [
    "#lectura fichero\n",
    "events = spark.read.csv(\"DATASET-Twitter-23-26-Mar-2014-MotoGP-Qatar.csv\",\n",
    "                    header=True, schema=customSchema, timestampFormat=\"dd/MM/yyyy HH:mm\")\n",
    "events.count()"
   ]
  },
  {
   "cell_type": "code",
   "execution_count": 4,
   "metadata": {
    "collapsed": true
   },
   "outputs": [],
   "source": [
    "#creacion de la colección tweets para los casos en que se usa spark.sql\n",
    "events.createOrReplaceTempView('tweets')"
   ]
  },
  {
   "cell_type": "markdown",
   "metadata": {},
   "source": [
    "# Ejercicio 2\n",
    "\n",
    "## a) Calcular el número total de retweets por usuario para los 50 usuarios con más mensajes en la muestra de tweets analizados. "
   ]
  },
  {
   "cell_type": "code",
   "execution_count": 5,
   "metadata": {},
   "outputs": [
    {
     "name": "stdout",
     "output_type": "stream",
     "text": [
      "+---------------+--------+------+\n",
      "|         Source|retweets|tweets|\n",
      "+---------------+--------+------+\n",
      "|     m_azharaji|       1|   486|\n",
      "|     twitMOTOGP|     401|   401|\n",
      "|      johnbokke|     289|   297|\n",
      "|   qatarflights|     215|   283|\n",
      "|     box_repsol|      48|   267|\n",
      "|    yolandaa_95|     126|   185|\n",
      "|    AlessiaPont|     181|   182|\n",
      "|     MM93Lovers|     169|   169|\n",
      "|    motomatters|      39|   169|\n",
      "|     Sonic_Moto|      94|   165|\n",
      "|  noelia_260797|     128|   157|\n",
      "|    birtymotogp|       2|   155|\n",
      "|  trackseven707|     152|   152|\n",
      "|   crash_motogp|       1|   149|\n",
      "|MarcMarquezTeam|      52|   148|\n",
      "|    pedrosistas|      24|   148|\n",
      "|   MotoFamilyGP|      17|   144|\n",
      "|   Kay46_MotoGP|      54|   142|\n",
      "|    blogenboxes|      15|   133|\n",
      "|     Ciintiia93|     119|   133|\n",
      "|      JesiPacio|     118|   130|\n",
      "|     tigrescuba|     123|   125|\n",
      "|    VAVEL_motor|    null|   124|\n",
      "|   MotoGPquotes|     123|   123|\n",
      "|     thalia_26_|      60|   119|\n",
      "|       plusmoto|    null|   119|\n",
      "|   iNotaMental_|    null|   116|\n",
      "|       Cev_Ford|      26|   115|\n",
      "|        salo_98|     104|   113|\n",
      "|  btsportmotogp|      26|   113|\n",
      "|     kamseunyil|      93|   111|\n",
      "| AnaAlvarez9325|      61|   111|\n",
      "|    Carlota_147|      94|   109|\n",
      "|      Luciadp26|      77|   109|\n",
      "|   Paula_Bravo3|      68|   107|\n",
      "|  keikokoeswadi|       5|   107|\n",
      "|    FansHM_9323|      19|   107|\n",
      "|   rohimahfidia|      89|   105|\n",
      "|    LiveMoto_GP|    null|   104|\n",
      "| RedGhostOnline|      49|   102|\n",
      "|      AsyrafAye|      92|   102|\n",
      "|unmontondruedas|       2|   101|\n",
      "|nisaauliarahma5|     101|   101|\n",
      "|         Jhoez7|       3|   100|\n",
      "|    MartinoMoto|      24|    96|\n",
      "|         MotoGP|      13|    95|\n",
      "|Miisael_Sound07|    null|    93|\n",
      "|AkbarValeLorenz|    null|    93|\n",
      "|     Cantimoto3|      75|    92|\n",
      "|      _montse24|      83|    92|\n",
      "+---------------+--------+------+\n",
      "\n"
     ]
    }
   ],
   "source": [
    "#50 ususarios con mas mensajes ordenados de mas a menos\n",
    "a=(events\n",
    " .groupBy(\"Source\")\n",
    " .agg(count(\"Id\").alias(\"tweets\"))\n",
    " .orderBy(\"tweets\", ascending=False)\n",
    " .limit(50))\n",
    " \n",
    "#filtrado de mensajes a los tweets que son retweets, tipo: RT\n",
    "b=(events.select(\"Source\",\"Id\",\"Tipe_action\")\n",
    ".filter(events.Tipe_action == 'RT')\n",
    ".groupBy(\"Source\")\n",
    ".agg(count(\"Id\").alias(\"retweets\"))\n",
    " )\n",
    "\n",
    "# Union, objeter b solo para la lista de usuarios (Source) de a\n",
    "\n",
    "c=b.join(a,\"Source\",how='right')\n",
    "c.orderBy(\"tweets\", ascending=False).show(50)\n",
    "\n"
   ]
  },
  {
   "cell_type": "markdown",
   "metadata": {},
   "source": [
    "## Calcular, para cada uno de estos usuarios la media de enlaces (URLs) enviados por mensaje. (2.5 puntos).¶"
   ]
  },
  {
   "cell_type": "code",
   "execution_count": 6,
   "metadata": {},
   "outputs": [
    {
     "name": "stdout",
     "output_type": "stream",
     "text": [
      "+---------------+------------------+------+\n",
      "|         Source|          med_uris|tweets|\n",
      "+---------------+------------------+------+\n",
      "|      AsyrafAye|1.2352941176470589|   102|\n",
      "|     tigrescuba|             1.224|   125|\n",
      "|    VAVEL_motor|1.1612903225806452|   124|\n",
      "|   MotoGPquotes|1.1219512195121952|   123|\n",
      "|  trackseven707|1.0986842105263157|   152|\n",
      "|     Ciintiia93|1.0827067669172932|   133|\n",
      "|     twitMOTOGP|1.0822942643391522|   401|\n",
      "|        salo_98| 1.079646017699115|   113|\n",
      "|   rohimahfidia|1.0761904761904761|   105|\n",
      "|  btsportmotogp|1.0707964601769913|   113|\n",
      "|  noelia_260797| 1.070063694267516|   157|\n",
      "|      _montse24| 1.065217391304348|    92|\n",
      "|   qatarflights|1.0600706713780919|   283|\n",
      "|    Carlota_147| 1.055045871559633|   109|\n",
      "|      JesiPacio|1.0538461538461539|   130|\n",
      "|   crash_motogp|1.0536912751677852|   149|\n",
      "|nisaauliarahma5|1.0495049504950495|   101|\n",
      "|    pedrosistas|1.0472972972972974|   148|\n",
      "|      johnbokke|1.0437710437710437|   297|\n",
      "|         MotoGP|1.0421052631578946|    95|\n",
      "|     box_repsol|1.0411985018726593|   267|\n",
      "| RedGhostOnline|1.0392156862745099|   102|\n",
      "|     Cantimoto3|1.0326086956521738|    92|\n",
      "|    MartinoMoto|           1.03125|    96|\n",
      "|   MotoFamilyGP|1.0277777777777777|   144|\n",
      "|      Luciadp26|1.0275229357798166|   109|\n",
      "|    AlessiaPont|1.0274725274725274|   182|\n",
      "|     MM93Lovers|1.0236686390532543|   169|\n",
      "|    motomatters|1.0236686390532543|   169|\n",
      "|MarcMarquezTeam|1.0202702702702702|   148|\n",
      "|     Sonic_Moto| 1.018181818181818|   165|\n",
      "|       plusmoto|1.0168067226890756|   119|\n",
      "|     thalia_26_|1.0168067226890756|   119|\n",
      "|    yolandaa_95|1.0162162162162163|   185|\n",
      "|   Paula_Bravo3|1.0093457943925233|   107|\n",
      "|    FansHM_9323|1.0093457943925233|   107|\n",
      "|  keikokoeswadi|1.0093457943925233|   107|\n",
      "| AnaAlvarez9325| 1.009009009009009|   111|\n",
      "|       Cev_Ford| 1.008695652173913|   115|\n",
      "|   Kay46_MotoGP|1.0070422535211268|   142|\n",
      "|     m_azharaji|               1.0|   486|\n",
      "|     kamseunyil|               1.0|   111|\n",
      "|   iNotaMental_|               1.0|   116|\n",
      "|    LiveMoto_GP|               1.0|   104|\n",
      "|AkbarValeLorenz|               1.0|    93|\n",
      "|Miisael_Sound07|               1.0|    93|\n",
      "|    blogenboxes|               1.0|   133|\n",
      "|unmontondruedas|               1.0|   101|\n",
      "|         Jhoez7|               1.0|   100|\n",
      "|    birtymotogp|               1.0|   155|\n",
      "+---------------+------------------+------+\n",
      "\n"
     ]
    }
   ],
   "source": [
    "#50 ususarios con mas mensajes ordenados de mas a menos\n",
    "a=(events\n",
    " .groupBy(\"Source\")\n",
    " .agg(count(\"Id\").alias(\"tweets\"))\n",
    " .orderBy(\"tweets\", ascending=False)\n",
    " .limit(50))\n",
    "\n",
    "#separacion de los datos en el campo URLs, que contiene separado por comas los URLs \n",
    "#de cada mensaje\n",
    "\n",
    "aa=(events.select(\"Source\",\"Id\",\"URLs\")\n",
    ".select(\"Source\",\"Id\",split(\"URLs\",',').alias(\"uris\"))\n",
    ".select(\"Source\",\"Id\",explode(\"uris\").alias(\"luris\")))\n",
    "\n",
    "#Media de los URLs por mensaje para cada usuario\n",
    "bb=(aa\n",
    ".groupBy(\"Source\",\"Id\")\n",
    ".agg(count(\"luris\").alias(\"nuris\"))\n",
    ".groupBy(\"Source\")\n",
    ".agg(mean(\"nuris\").alias(\"med_uris\")))\n",
    "\n",
    "#Media de los URLs por mensaje para cada usuario para los 50 usuarios \n",
    "#con mas mensajes (a) ordenados por el valor de la media de URLs que usan\n",
    "fff = bb.join(a,\"Source\",how='right')\n",
    "fff.orderBy(\"med_uris\",ascending=False).show(50)"
   ]
  },
  {
   "cell_type": "markdown",
   "metadata": {},
   "source": [
    "## b) Calcular el número total de mensajes que contienen información de geolocalización en el campo LOCATION. (2.5 puntos)."
   ]
  },
  {
   "cell_type": "code",
   "execution_count": 8,
   "metadata": {},
   "outputs": [
    {
     "data": {
      "text/plain": [
       "2136"
      ]
     },
     "execution_count": 8,
     "metadata": {},
     "output_type": "execute_result"
    }
   ],
   "source": [
    "#Aunque en la información se dice que el campo de LOCATION si comienza por “ÜT”, se proporcionan\n",
    "#las coordenadas exactas desde donde se emitió el tweet, hay tweets que también dan la localización\n",
    "#y que empiezan por un espacio seguido de “ÜT”, y otros que empiezan por \"UT\". Los demás o \n",
    "#muestran la localización dada por el usuario, lugar y no coordenadas o no tienen nada.\n",
    "#En mi opinión deberían sumarse todos los que contienen coordenadas.\n",
    "\n",
    "#Número de mensajes con geolocalización si nos restringimos a la información:\n",
    "\n",
    "events.filter(events.Location.startswith('ÜT')).count()"
   ]
  },
  {
   "cell_type": "code",
   "execution_count": 9,
   "metadata": {},
   "outputs": [
    {
     "data": {
      "text/plain": [
       "2136"
      ]
     },
     "execution_count": 9,
     "metadata": {},
     "output_type": "execute_result"
    }
   ],
   "source": [
    "#Con spark.sql\n",
    "numloc= spark.sql(\"\"\"\n",
    "SELECT Location FROM tweets\n",
    "WHERE Location LIKE 'ÜT%'\n",
    "\"\"\")\n",
    "numloc.count()"
   ]
  },
  {
   "cell_type": "code",
   "execution_count": 10,
   "metadata": {},
   "outputs": [
    {
     "data": {
      "text/plain": [
       "2333"
      ]
     },
     "execution_count": 10,
     "metadata": {},
     "output_type": "execute_result"
    }
   ],
   "source": [
    "#Número de mensajes con geolocalización si tomamos todos: 'ÜT', ' ÜT' y 'UT'\n",
    "\n",
    "events[events.Location.contains('ÜT') | events.Location.contains('UT')].count()\n"
   ]
  },
  {
   "cell_type": "code",
   "execution_count": 11,
   "metadata": {},
   "outputs": [
    {
     "data": {
      "text/plain": [
       "2333"
      ]
     },
     "execution_count": 11,
     "metadata": {},
     "output_type": "execute_result"
    }
   ],
   "source": [
    "#Con spark.sql\n",
    "numloc= spark.sql(\"\"\"\n",
    "SELECT Location FROM tweets\n",
    "WHERE Location LIKE '%ÜT%' OR Location LIKE '%UT%'\n",
    "\"\"\")\n",
    "numloc.count()"
   ]
  },
  {
   "cell_type": "markdown",
   "metadata": {},
   "source": [
    "## c) Calcular las 10 cuentas de Twitter que más han sido mencionadas en todo el conjunto de datos analizados. (2.5 puntos)."
   ]
  },
  {
   "cell_type": "code",
   "execution_count": 12,
   "metadata": {},
   "outputs": [
    {
     "name": "stdout",
     "output_type": "stream",
     "text": [
      "+--------------+---------+\n",
      "|          mens|Menciones|\n",
      "+--------------+---------+\n",
      "|  valeyellow46|    61226|\n",
      "| marcmarquez93|    58132|\n",
      "|        motogp|    38219|\n",
      "|     lorenzo99|    16802|\n",
      "|26_danipedrosa|    12346|\n",
      "| alexmarquez23|     6117|\n",
      "|    box_repsol|     5304|\n",
      "|     jessansan|     4568|\n",
      "|           ims|     3325|\n",
      "| btsportmotogp|     2479|\n",
      "+--------------+---------+\n",
      "\n"
     ]
    }
   ],
   "source": [
    "#Los tweets con menciones seran tweets retweet o con mencion \"RT\" o \"MT\". Como el campo\n",
    "#Menciones lista varios nicks, se separan primero\n",
    "\n",
    "#Separacion de las cuentas mencionadas en el campo Mentions\n",
    "aaa=(events.select(\"Tipe_action\",\"Mentions\")\n",
    ".select(\"Tipe_action\",split(\"Mentions\",',').alias(\"men\"))\n",
    ".select(\"Tipe_action\",explode(\"men\").alias(\"mens\")))\n",
    "    \n",
    "#filtrado a retweets y tweets con mention \n",
    "bbb=(aaa\n",
    ".filter((events.Tipe_action == \"RT\") | (events.Tipe_action == \"MT\"))  \n",
    ".groupBy(\"mens\")\n",
    ".agg(count(\"mens\").alias(\"Menciones\"))\n",
    ".orderBy(\"Menciones\", ascending=False)\n",
    ".limit(10)\n",
    ".show())\n",
    "\n"
   ]
  },
  {
   "cell_type": "markdown",
   "metadata": {},
   "source": [
    "## d) Calcular los 10 mensajes más retweeteados y los 10 mensajes que han acumulado más respuestas en la muestra de datos analizados. "
   ]
  },
  {
   "cell_type": "code",
   "execution_count": 13,
   "metadata": {},
   "outputs": [
    {
     "name": "stdout",
     "output_type": "stream",
     "text": [
      "+-------------+--------------------+------+\n",
      "|Parent_sys_id|                Body|tweets|\n",
      "+-------------+--------------------+------+\n",
      "|       603804|rt @marcmarquez93...|  5510|\n",
      "|       674825|rt @valeyellow46:...|  4993|\n",
      "|       460820|rt @marcmarquez93...|  3320|\n",
      "|       758581|rt @marcmarquez93...|  3235|\n",
      "|       553100|rt @motogp: #qata...|  2873|\n",
      "|       681159|rt @valeyellow46:...|  2405|\n",
      "|       553344|rt @motogp: anoth...|  2264|\n",
      "|       666385|rt @marcmarquez93...|  1773|\n",
      "|       605727|rt @lorenzo99: pe...|  1690|\n",
      "|       488086|rt @motogp: for t...|  1640|\n",
      "+-------------+--------------------+------+\n",
      "\n"
     ]
    }
   ],
   "source": [
    "#10 mensajes mas retweeteados: Mensajes de typo RT y como los que tienen padre=sin padre no \n",
    "#estan entre los 10 primeros se pueden poner o no. Se ha impuesto solo en la version con sql. \n",
    "\n",
    "\n",
    "(events.filter(events.Tipe_action == \"RT\")\n",
    " .groupBy(\"Parent_sys_id\",\"Body\")\n",
    ".agg(count(\"id\").alias(\"tweets\"))\n",
    ".orderBy(\"tweets\", ascending=False)\n",
    ".limit(10)\n",
    " .show())\n"
   ]
  },
  {
   "cell_type": "code",
   "execution_count": 14,
   "metadata": {},
   "outputs": [
    {
     "name": "stdout",
     "output_type": "stream",
     "text": [
      "+-------------+--------------------+------+\n",
      "|Parent_sys_id|                Body|tweets|\n",
      "+-------------+--------------------+------+\n",
      "|       603804|rt @marcmarquez93...|  5510|\n",
      "|       674825|rt @valeyellow46:...|  4993|\n",
      "|       460820|rt @marcmarquez93...|  3320|\n",
      "|       758581|rt @marcmarquez93...|  3235|\n",
      "|       553100|rt @motogp: #qata...|  2873|\n",
      "|       681159|rt @valeyellow46:...|  2405|\n",
      "|       553344|rt @motogp: anoth...|  2264|\n",
      "|       666385|rt @marcmarquez93...|  1773|\n",
      "|       605727|rt @lorenzo99: pe...|  1690|\n",
      "|       488086|rt @motogp: for t...|  1640|\n",
      "+-------------+--------------------+------+\n",
      "\n"
     ]
    }
   ],
   "source": [
    "#10 mensajes mas retweeteados:\n",
    "#Con spark.sql\n",
    "\n",
    "masret=spark.sql(\"\"\"\n",
    "SELECT Parent_sys_id, Body, count(Id) as `tweets` FROM tweets\n",
    "WHERE Tipe_action = \"RT\"  and Parent_sys_id !=\"sin padre\"\n",
    "GROUP BY  Parent_sys_id, Body\n",
    "ORDER BY tweets DESC\n",
    "LIMIT 10\n",
    "\"\"\")\n",
    "masret.show()\n",
    "\n"
   ]
  },
  {
   "cell_type": "code",
   "execution_count": 15,
   "metadata": {},
   "outputs": [
    {
     "name": "stdout",
     "output_type": "stream",
     "text": [
      "+-------------+------+\n",
      "|Parent_sys_id|tweets|\n",
      "+-------------+------+\n",
      "|       681159|   554|\n",
      "|       605727|   530|\n",
      "|       603804|   518|\n",
      "|       674825|   493|\n",
      "|       460820|   235|\n",
      "|       738975|   210|\n",
      "|       758581|   154|\n",
      "|       488086|   136|\n",
      "|       461756|   125|\n",
      "|       710916|   115|\n",
      "+-------------+------+\n",
      "\n"
     ]
    }
   ],
   "source": [
    "#10 mensajes con mas respuestas: Al ser respuestas deben ser originales TW o con menciones y se\n",
    "#impone que tengan Padre (distinto de sin padre) porque hay muchos sin, y el contenido no nulo \n",
    "#(Body not null). Hay bastantes respuestas sin contenido pero opino que no tiene sentido\n",
    "#ponerlas y por eso hago la restricion de BODY not null.\n",
    "\n",
    "(events[(events.Tipe_action == \"TW\") | (events.Tipe_action == \"MT\")]\n",
    " .filter(events.Parent_sys_id != \"sin padre\")\n",
    " .filter(events.Body != \"null\")  \n",
    " .groupBy(\"Parent_sys_id\")\n",
    ".agg(count(\"id\").alias(\"tweets\"))\n",
    ".orderBy(\"tweets\", ascending=False)\n",
    ".limit(10)\n",
    " .show())\n",
    "\n",
    "\n"
   ]
  },
  {
   "cell_type": "code",
   "execution_count": 16,
   "metadata": {},
   "outputs": [
    {
     "name": "stdout",
     "output_type": "stream",
     "text": [
      "+-------------+------+\n",
      "|Parent_sys_id|tweets|\n",
      "+-------------+------+\n",
      "|       681159|   554|\n",
      "|       605727|   530|\n",
      "|       603804|   518|\n",
      "|       674825|   493|\n",
      "|       460820|   235|\n",
      "|       738975|   210|\n",
      "|       758581|   154|\n",
      "|       488086|   136|\n",
      "|       461756|   125|\n",
      "|       710916|   115|\n",
      "+-------------+------+\n",
      "\n"
     ]
    }
   ],
   "source": [
    "#10 mensajes con mas respuestas\n",
    "#Con spark.sql\n",
    "\n",
    "masres=spark.sql(\"\"\"\n",
    "SELECT Parent_sys_id, count(Id) as `tweets` FROM tweets\n",
    "WHERE (Tipe_action = \"TW\" OR Tipe_action = \"MT\") \n",
    "and Parent_sys_id !=\"sin padre\" and Body != \"null\"\n",
    "GROUP BY  Parent_sys_id\n",
    "ORDER BY tweets DESC\n",
    "LIMIT 10\n",
    "\"\"\")\n",
    "masres.show()\n"
   ]
  },
  {
   "cell_type": "markdown",
   "metadata": {},
   "source": [
    "## Ahora, restringe la búsqueda a los mensajes en el intervalo 2014-03-24 04:00 - 2014-03-24 10:00. (2.5 puntos)."
   ]
  },
  {
   "cell_type": "code",
   "execution_count": 17,
   "metadata": {},
   "outputs": [
    {
     "name": "stdout",
     "output_type": "stream",
     "text": [
      "+-------------+--------------------+------+\n",
      "|Parent_sys_id|                Body|tweets|\n",
      "+-------------+--------------------+------+\n",
      "|       645626|rt @jessansan: no...|   443|\n",
      "|       603804|rt @marcmarquez93...|   429|\n",
      "|       638320|rt @jessansan: qu...|   368|\n",
      "|       645328|rt @jessansan: va...|   226|\n",
      "|       605727|rt @lorenzo99: pe...|   161|\n",
      "|       635916|rt @albitebaldi: ...|   140|\n",
      "|       622993|rt @falcio78: @va...|   138|\n",
      "|       553100|rt @motogp: #qata...|   109|\n",
      "|       627447|rt @daniauryn: qu...|    89|\n",
      "|       645225|rt @mflamigni: ch...|    89|\n",
      "+-------------+--------------------+------+\n",
      "\n"
     ]
    }
   ],
   "source": [
    "#10 mensajes mas retweeteados en el intervalo de tiempo: Mensajes de typo RT y como los que \n",
    "#tienen padre=sin padre no estan entre los 10 primeros se puede poner o no. Se ha impuesto \n",
    "#solo en la version con sql. \n",
    "\n",
    "(events.select(\"Parent_sys_id\",\"Id\",\"Body\",\"Pub_date\")\n",
    ".filter((events.Tipe_action == \"RT\") & (dayofmonth(\"Pub_date\") == 24) &\n",
    " (hour(\"Pub_date\") >= 4.0) & (hour(\"Pub_date\") < 10.0) )\n",
    ".groupBy(\"Parent_sys_id\",\"Body\")\n",
    ".agg(count(\"id\").alias(\"tweets\"))\n",
    ".orderBy(\"tweets\", ascending=False)\n",
    ".limit(10).show())\n",
    "\n"
   ]
  },
  {
   "cell_type": "code",
   "execution_count": 18,
   "metadata": {},
   "outputs": [
    {
     "name": "stdout",
     "output_type": "stream",
     "text": [
      "+-------------+------+\n",
      "|Parent_sys_id|tweets|\n",
      "+-------------+------+\n",
      "|       603804|    63|\n",
      "|       605727|    46|\n",
      "|       645328|    12|\n",
      "|       645225|    12|\n",
      "|       664891|     9|\n",
      "|       645626|     9|\n",
      "|       622993|     8|\n",
      "|       626650|     7|\n",
      "|       579001|     6|\n",
      "|       645001|     4|\n",
      "+-------------+------+\n",
      "\n"
     ]
    }
   ],
   "source": [
    "#10 mas contestados\n",
    "\n",
    "(events.select(\"Parent_sys_id\",\"Id\",\"Body\",\"Pub_date\")\n",
    ".filter((events.Tipe_action == \"TW\") | (events.Tipe_action == \"MT\"))\n",
    ".filter((events.Parent_sys_id != \"sin padre\") & (events.Body != \"null\") &  \n",
    " (dayofmonth(\"Pub_date\") == 24) & (hour(\"Pub_date\") >= 4) & (hour(\"Pub_date\") < 10))\n",
    ".groupBy(\"Parent_sys_id\")\n",
    ".agg(count(\"id\").alias(\"tweets\"))\n",
    ".orderBy(\"tweets\", ascending=False)\n",
    ".limit(10)\n",
    ".show())"
   ]
  },
  {
   "cell_type": "code",
   "execution_count": 19,
   "metadata": {},
   "outputs": [
    {
     "name": "stdout",
     "output_type": "stream",
     "text": [
      "+-------------+--------------------+------+\n",
      "|Parent_sys_id|                Body|tweets|\n",
      "+-------------+--------------------+------+\n",
      "|       645626|rt @jessansan: no...|   443|\n",
      "|       603804|rt @marcmarquez93...|   429|\n",
      "|       638320|rt @jessansan: qu...|   368|\n",
      "|       645328|rt @jessansan: va...|   226|\n",
      "|       605727|rt @lorenzo99: pe...|   161|\n",
      "|       635916|rt @albitebaldi: ...|   140|\n",
      "|       622993|rt @falcio78: @va...|   138|\n",
      "|       553100|rt @motogp: #qata...|   109|\n",
      "|       627447|rt @daniauryn: qu...|    89|\n",
      "|       645225|rt @mflamigni: ch...|    89|\n",
      "+-------------+--------------------+------+\n",
      "\n"
     ]
    }
   ],
   "source": [
    "#10 mensajes mas retweeteados en intervalo de tiempo\n",
    "#Con spark.sql\n",
    "\n",
    "masret=spark.sql(\"\"\"\n",
    "SELECT Parent_sys_id, Body, count(Id) as `tweets` FROM tweets\n",
    "WHERE Tipe_action = \"RT\"  and Parent_sys_id !=\"sin padre\" and \n",
    " DAYOFMONTH(Pub_date) = 24 AND HOUR(Pub_date) >= 4 AND HOUR(Pub_date) < 10\n",
    "GROUP BY  Parent_sys_id, Body\n",
    "ORDER BY tweets DESC\n",
    "LIMIT 10\n",
    "\"\"\")\n",
    "masret.show()\n"
   ]
  },
  {
   "cell_type": "code",
   "execution_count": 20,
   "metadata": {},
   "outputs": [
    {
     "name": "stdout",
     "output_type": "stream",
     "text": [
      "+-------------+------+\n",
      "|Parent_sys_id|tweets|\n",
      "+-------------+------+\n",
      "|       603804|    63|\n",
      "|       605727|    46|\n",
      "|       645225|    12|\n",
      "|       645328|    12|\n",
      "|       645626|     9|\n",
      "|       664891|     9|\n",
      "|       622993|     8|\n",
      "|       626650|     7|\n",
      "|       579001|     6|\n",
      "|       645001|     4|\n",
      "+-------------+------+\n",
      "\n"
     ]
    }
   ],
   "source": [
    "#10 mensajes con mas respuestas en intervalo de tiempo\n",
    "#Con spark.sql\n",
    "\n",
    "masres=spark.sql(\"\"\"\n",
    "SELECT Parent_sys_id, count(Id) as `tweets` FROM tweets\n",
    "WHERE (Tipe_action = \"TW\" OR Tipe_action = \"MT\") and \n",
    " DAYOFMONTH(Pub_date) = 24 AND HOUR(Pub_date) >= 4 AND HOUR(Pub_date) < 10\n",
    "and Parent_sys_id !=\"sin padre\" and Body != \"null\"\n",
    "GROUP BY  Parent_sys_id\n",
    "ORDER BY tweets DESC\n",
    "LIMIT 10\n",
    "\"\"\")\n",
    "masres.show()\n"
   ]
  },
  {
   "cell_type": "code",
   "execution_count": 21,
   "metadata": {
    "collapsed": true
   },
   "outputs": [],
   "source": [
    "# Remember to stop SparkContext before shutting down this notebook\n",
    "sc.stop()"
   ]
  }
 ],
 "metadata": {
  "kernelspec": {
   "display_name": "Python 3",
   "language": "python",
   "name": "python3"
  },
  "language_info": {
   "codemirror_mode": {
    "name": "ipython",
    "version": 3
   },
   "file_extension": ".py",
   "mimetype": "text/x-python",
   "name": "python",
   "nbconvert_exporter": "python",
   "pygments_lexer": "ipython3",
   "version": "3.6.2"
  }
 },
 "nbformat": 4,
 "nbformat_minor": 2
}
